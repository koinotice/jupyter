{
 "cells": [
  {
   "cell_type": "code",
   "execution_count": 11,
   "metadata": {},
   "outputs": [
    {
     "data": {
      "text/plain": [
       "(221, b'2.0.0 closing connection w128sm11302848pfw.79 - gsmtp')"
      ]
     },
     "execution_count": 11,
     "metadata": {},
     "output_type": "execute_result"
    }
   ],
   "source": [
    "import smtplib\n",
    "from email.mime.text import MIMEText\n",
    "from email.mime.image import MIMEImage\n",
    "from email.mime.multipart import MIMEMultipart\n",
    "\n",
    "server = smtplib.SMTP_SSL('smtp.gmail.com', 465)\n",
    "server.login(\"koinotice@gmail.com\", \"56os.com\")\n",
    "targets = ['koinotice@gmail.com','pangyiku@gmail.com','leven56@26.com']\n",
    "\n",
    "msg = MIMEMultipart()\n",
    "msg['Subject'] = 'I have a picture'\n",
    "msg['From'] =\"koinotice@gmail.com\"\n",
    "msg['To'] = ', '.join(targets)\n",
    "\n",
    "txt = MIMEText('I just bought a new camera.')\n",
    "msg.attach(txt)\n",
    "\n",
    "server.sendmail(\n",
    "    \"koinotice@gmail.com\",\n",
    "    \"pangyiku@gmail.com\",\n",
    "  \n",
    "    \"msg.as_string()\"\n",
    ")\n",
    "server.quit()"
   ]
  },
  {
   "cell_type": "code",
   "execution_count": null,
   "metadata": {},
   "outputs": [],
   "source": []
  }
 ],
 "metadata": {
  "kernelspec": {
   "display_name": "Python 3",
   "language": "python",
   "name": "python3"
  },
  "language_info": {
   "codemirror_mode": {
    "name": "ipython",
    "version": 3
   },
   "file_extension": ".py",
   "mimetype": "text/x-python",
   "name": "python",
   "nbconvert_exporter": "python",
   "pygments_lexer": "ipython3",
   "version": "3.6.5"
  }
 },
 "nbformat": 4,
 "nbformat_minor": 2
}
